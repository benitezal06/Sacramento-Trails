{
 "cells": [
  {
   "cell_type": "code",
   "execution_count": 14,
   "metadata": {},
   "outputs": [],
   "source": [
    "import gmaps\n",
    "import pandas as pd\n",
    "\n",
    "# Google developer API key\n",
    "from config import gkey\n",
    "\n",
    "# Configure gmaps\n",
    "gmaps.configure(api_key=gkey)"
   ]
  },
  {
   "cell_type": "code",
   "execution_count": 15,
   "metadata": {},
   "outputs": [
    {
     "data": {
      "text/html": [
       "<div>\n",
       "<style scoped>\n",
       "    .dataframe tbody tr th:only-of-type {\n",
       "        vertical-align: middle;\n",
       "    }\n",
       "\n",
       "    .dataframe tbody tr th {\n",
       "        vertical-align: top;\n",
       "    }\n",
       "\n",
       "    .dataframe thead th {\n",
       "        text-align: right;\n",
       "    }\n",
       "</style>\n",
       "<table border=\"1\" class=\"dataframe\">\n",
       "  <thead>\n",
       "    <tr style=\"text-align: right;\">\n",
       "      <th></th>\n",
       "      <th>Range</th>\n",
       "      <th>name</th>\n",
       "      <th>type</th>\n",
       "      <th>difficulty</th>\n",
       "      <th>stars</th>\n",
       "      <th>starVotes</th>\n",
       "      <th>location</th>\n",
       "      <th>length</th>\n",
       "      <th>ascent</th>\n",
       "      <th>descent</th>\n",
       "      <th>high</th>\n",
       "      <th>low</th>\n",
       "      <th>longitude</th>\n",
       "      <th>latitude</th>\n",
       "      <th>color</th>\n",
       "    </tr>\n",
       "  </thead>\n",
       "  <tbody>\n",
       "    <tr>\n",
       "      <td>0</td>\n",
       "      <td>0-100</td>\n",
       "      <td>Woodland Trail</td>\n",
       "      <td>Trail</td>\n",
       "      <td>Easy</td>\n",
       "      <td>5.0</td>\n",
       "      <td>114.0</td>\n",
       "      <td>Yosemite Valley, California</td>\n",
       "      <td>8.1</td>\n",
       "      <td>99.0</td>\n",
       "      <td>0.0</td>\n",
       "      <td>4052.0</td>\n",
       "      <td>3964.0</td>\n",
       "      <td>-119.5875</td>\n",
       "      <td>39.2959</td>\n",
       "      <td>lightgreen</td>\n",
       "    </tr>\n",
       "    <tr>\n",
       "      <td>1</td>\n",
       "      <td>100-200</td>\n",
       "      <td>Waterfall Trail</td>\n",
       "      <td>Trail</td>\n",
       "      <td>Easy</td>\n",
       "      <td>4.7</td>\n",
       "      <td>28.0</td>\n",
       "      <td>Yosemite Valley, California</td>\n",
       "      <td>4.4</td>\n",
       "      <td>175.0</td>\n",
       "      <td>-3.0</td>\n",
       "      <td>7200.0</td>\n",
       "      <td>7067.0</td>\n",
       "      <td>-119.5744</td>\n",
       "      <td>39.2939</td>\n",
       "      <td>lightgreen</td>\n",
       "    </tr>\n",
       "    <tr>\n",
       "      <td>2</td>\n",
       "      <td>200-300</td>\n",
       "      <td>Snell Barn Loop</td>\n",
       "      <td>Trail</td>\n",
       "      <td>Easy</td>\n",
       "      <td>4.2</td>\n",
       "      <td>6.0</td>\n",
       "      <td>North Auburn, California</td>\n",
       "      <td>3.7</td>\n",
       "      <td>228.0</td>\n",
       "      <td>-199.0</td>\n",
       "      <td>1563.0</td>\n",
       "      <td>1407.0</td>\n",
       "      <td>-121.1687</td>\n",
       "      <td>38.9643</td>\n",
       "      <td>lightgreen</td>\n",
       "    </tr>\n",
       "    <tr>\n",
       "      <td>3</td>\n",
       "      <td>300-400</td>\n",
       "      <td>Swinging Bridge</td>\n",
       "      <td>Trail</td>\n",
       "      <td>Easy</td>\n",
       "      <td>5.0</td>\n",
       "      <td>8.0</td>\n",
       "      <td>Sheridan, California</td>\n",
       "      <td>4.8</td>\n",
       "      <td>392.0</td>\n",
       "      <td>0.0</td>\n",
       "      <td>4243.0</td>\n",
       "      <td>3974.0</td>\n",
       "      <td>-119.6561</td>\n",
       "      <td>38.9738</td>\n",
       "      <td>lightgreen</td>\n",
       "    </tr>\n",
       "    <tr>\n",
       "      <td>4</td>\n",
       "      <td>400-500</td>\n",
       "      <td>Harden Lake</td>\n",
       "      <td>Hike</td>\n",
       "      <td>Easy</td>\n",
       "      <td>3.0</td>\n",
       "      <td>1.0</td>\n",
       "      <td>Yosemite Valley, California</td>\n",
       "      <td>5.9</td>\n",
       "      <td>499.0</td>\n",
       "      <td>-499.0</td>\n",
       "      <td>7862.0</td>\n",
       "      <td>7449.0</td>\n",
       "      <td>-119.6489</td>\n",
       "      <td>37.8703</td>\n",
       "      <td>lightgreen</td>\n",
       "    </tr>\n",
       "  </tbody>\n",
       "</table>\n",
       "</div>"
      ],
      "text/plain": [
       "     Range             name   type difficulty  stars  starVotes  \\\n",
       "0    0-100   Woodland Trail  Trail       Easy    5.0      114.0   \n",
       "1  100-200  Waterfall Trail  Trail       Easy    4.7       28.0   \n",
       "2  200-300  Snell Barn Loop  Trail       Easy    4.2        6.0   \n",
       "3  300-400  Swinging Bridge  Trail       Easy    5.0        8.0   \n",
       "4  400-500      Harden Lake   Hike       Easy    3.0        1.0   \n",
       "\n",
       "                      location  length  ascent  descent    high     low  \\\n",
       "0  Yosemite Valley, California     8.1    99.0      0.0  4052.0  3964.0   \n",
       "1  Yosemite Valley, California     4.4   175.0     -3.0  7200.0  7067.0   \n",
       "2     North Auburn, California     3.7   228.0   -199.0  1563.0  1407.0   \n",
       "3         Sheridan, California     4.8   392.0      0.0  4243.0  3974.0   \n",
       "4  Yosemite Valley, California     5.9   499.0   -499.0  7862.0  7449.0   \n",
       "\n",
       "   longitude  latitude       color  \n",
       "0  -119.5875   39.2959  lightgreen  \n",
       "1  -119.5744   39.2939  lightgreen  \n",
       "2  -121.1687   38.9643  lightgreen  \n",
       "3  -119.6561   38.9738  lightgreen  \n",
       "4  -119.6489   37.8703  lightgreen  "
      ]
     },
     "execution_count": 15,
     "metadata": {},
     "output_type": "execute_result"
    }
   ],
   "source": [
    "elevation_file = pd.read_csv('Best_trails_elevation.csv')\n",
    "data_elevation = elevation_file.drop(['Unnamed: 0'],axis=1)\n",
    "data_elevation.head()\n",
    "\n",
    "\n"
   ]
  },
  {
   "cell_type": "code",
   "execution_count": 16,
   "metadata": {},
   "outputs": [],
   "source": [
    "locations = data_elevation[[\"latitude\", \"longitude\"]]\n",
    "rating = data_elevation[\"stars\"].astype(float)"
   ]
  },
  {
   "cell_type": "code",
   "execution_count": 19,
   "metadata": {},
   "outputs": [],
   "source": [
    "figure_layout = {\n",
    "    'width': '800px',\n",
    "    'height': '600px',\n",
    "    'border': '1px solid black',\n",
    "    'padding': '5px',\n",
    "    'margin': '0 auto 0 auto'\n",
    "}\n",
    "fig = gmaps.figure(layout=figure_layout)\n",
    "\n",
    "# coordinates = data_elevation[[\"latitude\", \"longitude\"]].astype(float)\n",
    "# coordinates_layer = gmaps.symbol_layer(coordinates, fill_color = \"green\", stroke_color=\"green\", scale = 4)\n",
    "# fig.add_layer(coordinates_layer)"
   ]
  },
  {
   "cell_type": "code",
   "execution_count": 21,
   "metadata": {},
   "outputs": [],
   "source": [
    "#Add the layers\n",
    "\n",
    "coordinates = data_elevation[[\"latitude\", \"longitude\"]].astype(float)\n",
    "\n",
    "trail_info = data_elevation[[\"name\", \"location\", \"stars\", \"difficulty\", \"length\", \"ascent\"]].values.tolist()\n",
    "\n",
    "for i, s in enumerate(trail_info):\n",
    "    trail_info[i] = f\"\"\"\n",
    "    <b>Name</b>:<br>{s[0]}<br>\n",
    "    <b>Location</b>:<br>{s[1]}<br>\n",
    "    <b>Rating</b>:<br>{s[2]}<br>\n",
    "    <b>Difficulty</b>:<br>{s[3]}<br>\n",
    "    <b>Length</b>:<br>{s[4]} mi<br>\n",
    "    <b>Elevation</b>:<br>{s[5]} ft<br>\n",
    "    \"\"\""
   ]
  },
  {
   "cell_type": "code",
   "execution_count": 22,
   "metadata": {},
   "outputs": [],
   "source": [
    "# Add marker layer\n",
    "# Assign the marker layer to a variable\n",
    "\n",
    "markers = gmaps.marker_layer(\n",
    "        coordinates,\n",
    "        info_box_content=trail_info\n",
    "    )\n",
    "\n",
    "# Add the layer to the map\n",
    "fig.add_layer(markers)"
   ]
  },
  {
   "cell_type": "code",
   "execution_count": 23,
   "metadata": {},
   "outputs": [
    {
     "data": {
      "application/vnd.jupyter.widget-view+json": {
       "model_id": "fa1404aa1df0488aa3f8f1dfdf1c7985",
       "version_major": 2,
       "version_minor": 0
      },
      "text/plain": [
       "Figure(layout=FigureLayout(border='1px solid black', height='600px', margin='0 auto 0 auto', padding='5px', wi…"
      ]
     },
     "metadata": {},
     "output_type": "display_data"
    }
   ],
   "source": [
    "fig"
   ]
  },
  {
   "cell_type": "code",
   "execution_count": null,
   "metadata": {},
   "outputs": [],
   "source": []
  }
 ],
 "metadata": {
  "kernelspec": {
   "display_name": "Python 3",
   "language": "python",
   "name": "python3"
  },
  "language_info": {
   "codemirror_mode": {
    "name": "ipython",
    "version": 3
   },
   "file_extension": ".py",
   "mimetype": "text/x-python",
   "name": "python",
   "nbconvert_exporter": "python",
   "pygments_lexer": "ipython3",
   "version": "3.7.4"
  }
 },
 "nbformat": 4,
 "nbformat_minor": 2
}
