{
 "cells": [
  {
   "cell_type": "markdown",
   "metadata": {},
   "source": [
    "<h1>Sacramento's Best Trails</h1>\n",
    "<h2>Data Visualization and Analysis (cont.)</h2>\n",
    "<em>by:</em> Joy, Ruben, and Nancy"
   ]
  },
  {
   "cell_type": "markdown",
   "metadata": {},
   "source": [
    "<h3>Let's find some trails for you!</h3>"
   ]
  },
  {
   "cell_type": "markdown",
   "metadata": {},
   "source": [
    "> We'll help you find trails that you like.\n",
    "> <br>Just enter some information and we will make you a map for your new adventure!"
   ]
  },
  {
   "cell_type": "markdown",
   "metadata": {},
   "source": [
    "<h3>Step 1: Dependencies and Setup</h3>"
   ]
  },
  {
   "cell_type": "code",
   "execution_count": null,
   "metadata": {},
   "outputs": [],
   "source": [
    "# Dependencies and Setup\n",
    "import os\n",
    "import matplotlib.pyplot as plt\n",
    "import pandas as pd\n",
    "import numpy as np\n",
    "import requests\n",
    "import time\n",
    "import json\n",
    "import gmaps\n",
    "import ipywidgets as widgets\n",
    "\n",
    "# Import API key\n",
    "# Google API\n",
    "from config import g_key"
   ]
  },
  {
   "cell_type": "markdown",
   "metadata": {},
   "source": [
    "<h3>Step 2: Importing data from CSV</h3>"
   ]
  },
  {
   "cell_type": "code",
   "execution_count": null,
   "metadata": {},
   "outputs": [],
   "source": [
    "data = pd.read_csv(\"trails_dropped.csv\")\n",
    "#Removing first column (index)\n",
    "data.drop(data.columns[0],axis=1,inplace=True)"
   ]
  },
  {
   "cell_type": "code",
   "execution_count": null,
   "metadata": {},
   "outputs": [],
   "source": [
    "#Dropping rows that don't have a valid value inside the difficulty column\n",
    "indexNames = data[ (data['difficulty'] == 'missing') ].index\n",
    "data.drop(indexNames , inplace=True)\n",
    "\n",
    "data.loc[(data.difficulty == 'Easy'),'difficulty_level']=1\n",
    "data.loc[(data.difficulty == 'Easy/Intermediate'),'difficulty_level']=2\n",
    "data.loc[(data.difficulty == 'Intermediate'),'difficulty_level']=3\n",
    "data.loc[(data.difficulty == 'Intermediate/Difficult'),'difficulty_level']=4\n",
    "data.loc[(data.difficulty == 'Difficult'),'difficulty_level']=5\n",
    "data.loc[(data.difficulty == 'Extremely Difficult'),'difficulty_level']=6\n",
    "\n",
    "data['difficulty_level'] = data['difficulty_level'].astype('int32')\n",
    "\n",
    "data = data.sort_values(by=['popular_vote'], ascending=False)"
   ]
  },
  {
   "cell_type": "code",
   "execution_count": null,
   "metadata": {},
   "outputs": [],
   "source": [
    "#Preview the data\n",
    "data.head()"
   ]
  },
  {
   "cell_type": "markdown",
   "metadata": {},
   "source": [
    "<h3>Step 3: User input</h3>"
   ]
  },
  {
   "cell_type": "markdown",
   "metadata": {},
   "source": [
    "> We will sort our data based on popularity and filter it to match your preference. Let's get started!"
   ]
  },
  {
   "cell_type": "code",
   "execution_count": null,
   "metadata": {},
   "outputs": [],
   "source": [
    "v_name = input('Enter your name: ')"
   ]
  },
  {
   "cell_type": "code",
   "execution_count": null,
   "metadata": {},
   "outputs": [],
   "source": [
    "print (f\"Hi {v_name}!\")\n",
    "\n",
    "v_number_of_trails = int(input('How many trails would you like to find? '))\n",
    "v_difficulty = input('Enter level(s) difficulty: ')\n",
    "v_difficulty = v_difficulty.split (\",\")\n",
    "\n",
    "v_rating = float(input('Enter minimum rating(1.0-5.0): '))"
   ]
  },
  {
   "cell_type": "code",
   "execution_count": null,
   "metadata": {},
   "outputs": [],
   "source": [
    "yourTrails = data[(data.stars >= v_rating) & (data.difficulty.isin(v_difficulty))]\n",
    "yourTrails = yourTrails.nlargest(v_number_of_trails,'popular_vote')\n",
    "yourTrails"
   ]
  },
  {
   "cell_type": "markdown",
   "metadata": {},
   "source": [
    "<h3> Let's plot it on the map!</h3>"
   ]
  },
  {
   "cell_type": "code",
   "execution_count": null,
   "metadata": {},
   "outputs": [],
   "source": [
    "# Access maps with unique API key\n",
    "gmaps.configure(api_key=g_key)"
   ]
  },
  {
   "cell_type": "code",
   "execution_count": null,
   "metadata": {},
   "outputs": [],
   "source": [
    "# Customize the size of the figure\n",
    "figure_layout = {\n",
    "    'width': '800px',\n",
    "    'height': '600px',\n",
    "    'border': '1px solid black',\n",
    "    'padding': '1px',\n",
    "    'margin': '0 auto 0 auto'    \n",
    "}\n",
    "fig = gmaps.figure(layout=figure_layout, map_type = 'TERRAIN')"
   ]
  },
  {
   "cell_type": "code",
   "execution_count": null,
   "metadata": {},
   "outputs": [],
   "source": [
    "#Add the layers\n",
    "\n",
    "coordinates = yourTrails[[\"latitude\", \"longitude\"]].astype(float)\n",
    "\n",
    "trail_info = yourTrails[[\"name\", \"location\", \"stars\", \"difficulty\", \"length\", \"ascent\"]].values.tolist()\n",
    "\n",
    "for i, s in enumerate(trail_info):\n",
    "    trail_info[i] = f\"\"\"\n",
    "    <b>Name</b>:<br>{s[0]}<br>\n",
    "    <b>Location</b>:<br>{s[1]}<br>\n",
    "    <b>Rating</b>:<br>{s[2]}<br>\n",
    "    <b>Difficulty</b>:<br>{s[3]}<br>\n",
    "    <b>Length</b>:<br>{s[4]} mi<br>\n",
    "    <b>Elevation</b>:<br>{s[5]} ft<br>\n",
    "    \"\"\""
   ]
  },
  {
   "cell_type": "code",
   "execution_count": null,
   "metadata": {},
   "outputs": [],
   "source": [
    "# Add marker layer\n",
    "# Assign the marker layer to a variable\n",
    "\n",
    "markers = gmaps.marker_layer(\n",
    "        coordinates,\n",
    "        info_box_content=trail_info\n",
    "    )\n",
    "\n",
    "# Add the layer to the map\n",
    "fig.add_layer(markers)\n"
   ]
  },
  {
   "cell_type": "code",
   "execution_count": 12,
   "metadata": {},
   "outputs": [
    {
     "data": {
      "application/vnd.jupyter.widget-view+json": {
       "model_id": "ccbe6f5c5e9d4b19949ce34f4b68e3be",
       "version_major": 2,
       "version_minor": 0
      },
      "text/plain": [
       "Figure(layout=FigureLayout(border='1px solid black', height='600px', margin='0 auto 0 auto', padding='1px', wi…"
      ]
     },
     "metadata": {},
     "output_type": "display_data"
    }
   ],
   "source": [
    "fig"
   ]
  },
  {
   "cell_type": "markdown",
   "metadata": {},
   "source": [
    "><b>Now, save this map and get outside! :)</b>"
   ]
  },
  {
   "cell_type": "code",
   "execution_count": null,
   "metadata": {},
   "outputs": [],
   "source": []
  }
 ],
 "metadata": {
  "kernelspec": {
   "display_name": "Python 3",
   "language": "python",
   "name": "python3"
  },
  "language_info": {
   "codemirror_mode": {
    "name": "ipython",
    "version": 3
   },
   "file_extension": ".py",
   "mimetype": "text/x-python",
   "name": "python",
   "nbconvert_exporter": "python",
   "pygments_lexer": "ipython3",
   "version": "3.7.4"
  }
 },
 "nbformat": 4,
 "nbformat_minor": 2
}
